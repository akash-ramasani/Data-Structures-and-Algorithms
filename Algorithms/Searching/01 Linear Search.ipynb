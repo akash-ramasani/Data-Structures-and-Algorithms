{
 "cells": [
  {
   "cell_type": "code",
   "execution_count": 1,
   "id": "16abe2fd-5164-4c37-871e-87e2f082d9b0",
   "metadata": {},
   "outputs": [],
   "source": [
    "def linearSearch(array, lengthOfArray, element):\n",
    "    for index in range(0, lengthOfArray):\n",
    "        if array[index] == element:\n",
    "            return index\n",
    "    return -1"
   ]
  },
  {
   "cell_type": "code",
   "execution_count": 2,
   "id": "2a660d60-361a-49e0-9a08-ccd151768014",
   "metadata": {},
   "outputs": [
    {
     "name": "stdout",
     "output_type": "stream",
     "text": [
      "Element is present at index 3\n"
     ]
    }
   ],
   "source": [
    "if __name__ == \"__main__\":\n",
    "    array = [2, 3, 4, 10, 40]\n",
    "    lengthOfArray = len(array)\n",
    "    element = 10\n",
    "\n",
    "    result = linearSearch(array, lengthOfArray, element)\n",
    "    if result == -1:\n",
    "        print(\"Element is not present in array\")\n",
    "    else:\n",
    "        print(\"Element is present at index\", result)"
   ]
  }
 ],
 "metadata": {
  "kernelspec": {
   "display_name": "Python 3 (ipykernel)",
   "language": "python",
   "name": "python3"
  },
  "language_info": {
   "codemirror_mode": {
    "name": "ipython",
    "version": 3
   },
   "file_extension": ".py",
   "mimetype": "text/x-python",
   "name": "python",
   "nbconvert_exporter": "python",
   "pygments_lexer": "ipython3",
   "version": "3.11.6"
  }
 },
 "nbformat": 4,
 "nbformat_minor": 5
}
