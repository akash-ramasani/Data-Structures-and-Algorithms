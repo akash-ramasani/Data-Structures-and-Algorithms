{
 "cells": [
  {
   "cell_type": "code",
   "execution_count": 1,
   "id": "3ffaf193-80c7-4578-a70f-749b4b6a6664",
   "metadata": {},
   "outputs": [],
   "source": [
    "def linearSearch(array, targetElement):\n",
    "    for eachIndex in range(len(array)):\n",
    "        if array[eachIndex] == targetElement:\n",
    "            return eachIndex\n",
    "    return -1"
   ]
  },
  {
   "cell_type": "code",
   "execution_count": 2,
   "id": "0c6e9e3a-deec-44c7-a204-1d40412724d2",
   "metadata": {},
   "outputs": [],
   "source": [
    "array = [2, 3, 4, 10, 40]\n",
    "targetElement = 10"
   ]
  },
  {
   "cell_type": "code",
   "execution_count": 3,
   "id": "b00ec833-0630-4934-a717-fbcd88e9cc6f",
   "metadata": {},
   "outputs": [],
   "source": [
    "result = linearSearch(array, targetElement)"
   ]
  },
  {
   "cell_type": "code",
   "execution_count": 4,
   "id": "a177736e-5602-4ed7-9f90-f3c33ea8d811",
   "metadata": {},
   "outputs": [
    {
     "name": "stdout",
     "output_type": "stream",
     "text": [
      "Element is present at index 3\n"
     ]
    }
   ],
   "source": [
    "if result == -1:\n",
    "    print(\"Element is not present in array\")\n",
    "else:\n",
    "    print(\"Element is present at index\", result)"
   ]
  }
 ],
 "metadata": {
  "kernelspec": {
   "display_name": "Python 3 (ipykernel)",
   "language": "python",
   "name": "python3"
  },
  "language_info": {
   "codemirror_mode": {
    "name": "ipython",
    "version": 3
   },
   "file_extension": ".py",
   "mimetype": "text/x-python",
   "name": "python",
   "nbconvert_exporter": "python",
   "pygments_lexer": "ipython3",
   "version": "3.11.6"
  }
 },
 "nbformat": 4,
 "nbformat_minor": 5
}
